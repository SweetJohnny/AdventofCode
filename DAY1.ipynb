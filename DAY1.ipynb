{
 "cells": [
  {
   "cell_type": "code",
   "execution_count": 2,
   "metadata": {},
   "outputs": [],
   "source": [
    "file_input=\"./MYLIB/DAY1.txt\"\n",
    "import pandas as pd\n",
    "import numpy as np\n",
    "import re\n",
    "T1=pd.read_table(file_input, header=None, names=[\"DAY1\"])\n",
    "T2=list(T1[\"DAY1\"])"
   ]
  },
  {
   "cell_type": "code",
   "execution_count": 125,
   "metadata": {},
   "outputs": [
    {
     "name": "stdout",
     "output_type": "stream",
     "text": [
      "55017\n"
     ]
    }
   ],
   "source": [
    "#PART 1 : only digit !\n",
    "#from a string, extract all numeric values and output first and last appended\n",
    "def extract_2digits(x):\n",
    "    aux=[]\n",
    "    for i in x:\n",
    "        if i.isnumeric():aux.append(i)\n",
    "    #aux contains all numeric as a string format\n",
    "    output=int(aux[0]+aux[-1])\n",
    "    return(output)\n",
    "#T3 is now a list of all 2digits number we were looking for\n",
    "T3=[extract_2digits(sublist) for sublist in T2]\n",
    "result=0\n",
    "#summing T3\n",
    "for i in T3:\n",
    "    result+=i\n",
    "#final sum !\n",
    "print(result)\n"
   ]
  },
  {
   "cell_type": "code",
   "execution_count": 112,
   "metadata": {},
   "outputs": [
    {
     "name": "stdout",
     "output_type": "stream",
     "text": [
      "53063\n"
     ]
    }
   ],
   "source": [
    "#PART 2 : characters also count as digits (one = 1, two = 2 ...)\n",
    "#defining dictionnary\n",
    "correspondance={'one':'1',\n",
    "                'two':'2',\n",
    "                'three':'3',\n",
    "                'four':'4',\n",
    "                'five':'5',\n",
    "                'six':'6',\n",
    "                'seven':'7',\n",
    "                'eight':'8',\n",
    "                'nine':'9'}\n",
    "#function replacing values in string based on dictionnary\n",
    "def convert_char_to_value(x,correspondance):\n",
    "    output=x\n",
    "    for char_digit,int_digit in correspondance.items():\n",
    "        output=re.sub(char_digit,int_digit,output)\n",
    "    return(output)\n",
    "#applying function to T2 !\n",
    "T4=[convert_char_to_value(element, correspondance) for element in T2]\n",
    "#now we're back to problem 1, just repeat\n",
    "T5=[extract_2digits(sublist) for sublist in T4]\n",
    "result_prob2=0\n",
    "#summing T5\n",
    "for i in T5:\n",
    "    result_prob2+=i\n",
    "#final sum !\n",
    "print(result_prob2)\n",
    "####DOESN'T WORK : oneight = 18 !\n"
   ]
  },
  {
   "cell_type": "code",
   "execution_count": 143,
   "metadata": {},
   "outputs": [
    {
     "name": "stdout",
     "output_type": "stream",
     "text": [
      "53551\n"
     ]
    }
   ],
   "source": [
    "#let's use regex : if you match any, then it should be outputed, the rest is ignored\n",
    "pattern_digits = r'(one|two|three|four|five|six|seven|eight|nine|0|1|2|3|4|5|6|7|8|9)'\n",
    "def all_matching_pattern(x):\n",
    "    aux=re.findall(pattern_digits,x)\n",
    "    output=\"\".join(aux)\n",
    "    return(output)\n",
    "#now we can create a new input based on regex\n",
    "T6=[all_matching_pattern(element) for element in T2]\n",
    "#replacing strings by number\n",
    "T7=[convert_char_to_value(element, correspondance) for element in T6]\n",
    "#extracting 1st and last digit then we're good !\n",
    "T8=[extract_2digits(sublist) for sublist in T7]\n",
    "result_prob2=0\n",
    "#summing T8\n",
    "for i in T8:\n",
    "    result_prob2+=i\n",
    "#final sum !\n",
    "print(result_prob2)\n",
    "#still doens't work... result is different but still wrong : any match is a match, but not all match are listed"
   ]
  },
  {
   "cell_type": "code",
   "execution_count": 128,
   "metadata": {},
   "outputs": [
    {
     "name": "stdout",
     "output_type": "stream",
     "text": [
      "53539\n"
     ]
    }
   ],
   "source": [
    "\n",
    "def extract__all_digits(x):\n",
    "    correspondance={'one':'1','two':'2','three':'3','four':'4','five':'5','six':'6','seven':'7','eight':'8','nine':'9',\n",
    "                    '0':'0','1':'1','2':'2','3':'3','4':'4','5':'5','6':'6','7':'7','8':'8','9':'9'}\n",
    "    aux2=[]\n",
    "    #look for each occurence of correspondance (one, two, 1, 2,...)\n",
    "    for i,j in correspondance.items():\n",
    "        aux1=re.finditer(i,x)\n",
    "        if aux1!=None:\n",
    "            #stores in aux2 position and digit value of each occurence\n",
    "            for k in aux1:\n",
    "                aux2.append([k.start(),j])\n",
    "    #sort by position\n",
    "    aux2.sort(key=lambda x:x[0])\n",
    "    #appends all digits in order\n",
    "    output=''\n",
    "    for i in aux2:\n",
    "        output=output+i[1]\n",
    "    return(output)\n",
    "#turning '1one2oneight' into '11218' in all T2\n",
    "T10=[extract__all_digits(element) for element in T2]\n",
    "#turning '11218' into 18 (last and first)\n",
    "T11=[extract_2digits(element) for element in T10]\n",
    "#summing\n",
    "result_prob2=0\n",
    "for i in T11:\n",
    "    result_prob2+=i\n",
    "#final sum !\n",
    "print(result_prob2)\n",
    "#IT WORKS !!!"
   ]
  }
 ],
 "metadata": {
  "kernelspec": {
   "display_name": "Python 3",
   "language": "python",
   "name": "python3"
  },
  "language_info": {
   "codemirror_mode": {
    "name": "ipython",
    "version": 3
   },
   "file_extension": ".py",
   "mimetype": "text/x-python",
   "name": "python",
   "nbconvert_exporter": "python",
   "pygments_lexer": "ipython3",
   "version": "3.10.11"
  },
  "orig_nbformat": 4
 },
 "nbformat": 4,
 "nbformat_minor": 2
}
